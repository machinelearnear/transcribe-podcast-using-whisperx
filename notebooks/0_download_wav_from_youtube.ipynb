{
 "cells": [
  {
   "cell_type": "markdown",
   "id": "7771f681-1521-4b19-bbd6-8cbdedf7871c",
   "metadata": {},
   "source": [
    "## Download `.wav` from YouTube"
   ]
  },
  {
   "cell_type": "code",
   "execution_count": null,
   "id": "481af1ce-2421-4e7f-bb55-5553f1733244",
   "metadata": {},
   "outputs": [],
   "source": [
    "import subprocess\n",
    "\n",
    "try:\n",
    "    import yt_dlp\n",
    "except ImportError:\n",
    "    import subprocess\n",
    "    subprocess.run(['pip', 'install', 'yt-dlp'])"
   ]
  },
  {
   "cell_type": "code",
   "execution_count": null,
   "id": "3e789797-0b8e-4cce-b51e-c939c62efe6a",
   "metadata": {},
   "outputs": [],
   "source": [
    "URL = 'https://www.youtube.com/watch?v=OA1biHKSyTw' # El Método Rebord #48 - Alejandro Dolina"
   ]
  },
  {
   "cell_type": "code",
   "execution_count": null,
   "id": "6eb5b9fd-185c-46d0-a979-ab7cb2f1829c",
   "metadata": {},
   "outputs": [],
   "source": [
    "import json\n",
    "import yt_dlp\n",
    "\n",
    "# ℹ️ See help(yt_dlp.YoutubeDL) for a list of available options and public functions\n",
    "ydl_opts = {}\n",
    "with yt_dlp.YoutubeDL(ydl_opts) as ydl:\n",
    "    info = ydl.extract_info(URL, download=False)\n",
    "\n",
    "    # # ℹ️ ydl.sanitize_info makes the info json-serializable\n",
    "    # print(json.dumps(ydl.sanitize_info(info)))\n",
    "\n",
    "input_title = ydl.sanitize_info(info)[\"title\"]"
   ]
  },
  {
   "cell_type": "code",
   "execution_count": null,
   "id": "0a6d10bd-b3fb-402f-bcaa-150502f54a8f",
   "metadata": {},
   "outputs": [],
   "source": [
    "import re\n",
    "\n",
    "def convert_title(title):\n",
    "    # Extract the episode number using a regex pattern\n",
    "    episode_number = re.search(r'#(\\d+)', title)\n",
    "    if episode_number:\n",
    "        episode_number = episode_number.group(1).zfill(3)\n",
    "    else:\n",
    "        raise ValueError(\"Episode number not found in the input string\")\n",
    "\n",
    "    # Remove any non-alphanumeric characters and split the words into a list\n",
    "    words = re.findall(r'\\b\\w+\\b', title)\n",
    "\n",
    "    # Find the index of the hyphen (-) separator\n",
    "    separator_index = title.find('-')\n",
    "\n",
    "    if separator_index == -1:\n",
    "        raise ValueError(\"Separator (-) not found in the input string\")\n",
    "\n",
    "    # Extract the names after the separator and remove any leading/trailing whitespace\n",
    "    names = title[separator_index+1:].strip()\n",
    "\n",
    "    # Combine the episode number and names into the desired format\n",
    "    result = f\"episode_{episode_number}_{names.replace(' ', '_')}\".lower()\n",
    "    return result\n",
    "\n",
    "output_title = convert_title(input_title)\n",
    "print(output_title)  # Output: episode_048_alejandro_dolina"
   ]
  },
  {
   "cell_type": "code",
   "execution_count": null,
   "id": "30e6be80-9d79-41de-86ab-3479b193f951",
   "metadata": {},
   "outputs": [],
   "source": [
    "ydl_opts = {\n",
    "    'outtmpl': output_filename,\n",
    "    'format': 'm4a/bestaudio/best',\n",
    "    # ℹ️ See help(yt_dlp.postprocessor) for a list of available Postprocessors and their arguments\n",
    "    'postprocessors': [{  # Extract audio using ffmpeg\n",
    "        'key': 'FFmpegExtractAudio',\n",
    "        'preferredcodec': 'wav',\n",
    "    }]\n",
    "}\n",
    "\n",
    "with yt_dlp.YoutubeDL(ydl_opts) as ydl:\n",
    "    error_code = ydl.download(URL)"
   ]
  },
  {
   "cell_type": "code",
   "execution_count": null,
   "id": "bff85ea1-ceab-4256-b1ee-3def12e79201",
   "metadata": {},
   "outputs": [],
   "source": []
  }
 ],
 "metadata": {
  "kernelspec": {
   "display_name": "default:Python",
   "language": "python",
   "name": "conda-env-default-py"
  },
  "language_info": {
   "codemirror_mode": {
    "name": "ipython",
    "version": 3
   },
   "file_extension": ".py",
   "mimetype": "text/x-python",
   "name": "python",
   "nbconvert_exporter": "python",
   "pygments_lexer": "ipython3",
   "version": "3.9.13"
  }
 },
 "nbformat": 4,
 "nbformat_minor": 5
}
