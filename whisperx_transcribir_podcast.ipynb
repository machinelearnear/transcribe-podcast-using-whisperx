{
 "cells": [
  {
   "cell_type": "markdown",
   "metadata": {
    "colab_type": "text",
    "id": "view-in-github"
   },
   "source": [
    "<a href=\"https://colab.research.google.com/github/machinelearnear/nelson-openai-master-plan/blob/main/whisperx_transcribir_podcast.ipynb\" target=\"_parent\"><img src=\"https://colab.research.google.com/assets/colab-badge.svg\" alt=\"Open In Colab\"/></a>"
   ]
  },
  {
   "cell_type": "markdown",
   "metadata": {
    "id": "3TkBM6oS7ROk"
   },
   "source": [
    "## transcribir video de youtube identificando speakers y timestamps"
   ]
  },
  {
   "cell_type": "code",
   "execution_count": null,
   "metadata": {},
   "outputs": [],
   "source": [
    "hf_token = \"<aca-pone-tu-hf-token>\" # https://huggingface.co/settings/tokens\n",
    "URL = 'https://www.youtube.com/watch?v=OA1biHKSyTw'"
   ]
  },
  {
   "cell_type": "markdown",
   "metadata": {
    "id": "RxxNYfrT8MHh"
   },
   "source": [
    "### instalar todo"
   ]
  },
  {
   "cell_type": "code",
   "execution_count": 1,
   "metadata": {
    "colab": {
     "base_uri": "https://localhost:8080/"
    },
    "id": "psb7KUiJ6dwk",
    "outputId": "ab92fee9-ac6a-4245-a857-cfde1bef872b"
   },
   "outputs": [],
   "source": [
    "!pip install git+https://github.com/m-bain/whisperx.git;\n",
    "!python3 -m pip install -U yt-dlp;"
   ]
  },
  {
   "cell_type": "markdown",
   "metadata": {
    "id": "E3Trcf6-8TJV"
   },
   "source": [
    "### bajarse el podcast de youtube a un `wav`"
   ]
  },
  {
   "cell_type": "code",
   "execution_count": null,
   "metadata": {},
   "outputs": [],
   "source": [
    "import json\n",
    "import yt_dlp\n",
    "\n",
    "# ℹ️ See help(yt_dlp.YoutubeDL) for a list of available options and public functions\n",
    "ydl_opts = {}\n",
    "with yt_dlp.YoutubeDL(ydl_opts) as ydl:\n",
    "    info = ydl.extract_info(URL, download=False)\n",
    "\n",
    "    # # ℹ️ ydl.sanitize_info makes the info json-serializable\n",
    "    # print(json.dumps(ydl.sanitize_info(info)))"
   ]
  },
  {
   "cell_type": "code",
   "execution_count": null,
   "metadata": {},
   "outputs": [],
   "source": [
    "import re\n",
    "\n",
    "def convert_title(title):\n",
    "    # Extract the episode number using a regex pattern\n",
    "    episode_number = re.search(r'#(\\d+)', title)\n",
    "    if episode_number:\n",
    "        episode_number = episode_number.group(1).zfill(3)\n",
    "    else:\n",
    "        raise ValueError(\"Episode number not found in the input string\")\n",
    "\n",
    "    # Remove any non-alphanumeric characters and split the words into a list\n",
    "    words = re.findall(r'\\b\\w+\\b', title)\n",
    "\n",
    "    # Find the index of the hyphen (-) separator\n",
    "    separator_index = title.find('-')\n",
    "\n",
    "    if separator_index == -1:\n",
    "        raise ValueError(\"Separator (-) not found in the input string\")\n",
    "\n",
    "    # Extract the names after the separator and remove any leading/trailing whitespace\n",
    "    names = title[separator_index+1:].strip()\n",
    "\n",
    "    # Combine the episode number and names into the desired format\n",
    "    result = f\"episode_{episode_number}_{names.replace(' ', '_')}\".lower()\n",
    "    return result\n",
    "\n",
    "input_title = ydl.sanitize_info(info)[\"title\"]\n",
    "output_title = convert_title(input_title)\n",
    "output_filename = f'output/{output_title}.wav'\n",
    "print(output_title)  # Output: episode_048_alejandro_dolina"
   ]
  },
  {
   "cell_type": "code",
   "execution_count": null,
   "metadata": {},
   "outputs": [],
   "source": [
    "ydl_opts = {\n",
    "    'outtmpl': output_filename,\n",
    "    'format': 'm4a/bestaudio/best',\n",
    "    # ℹ️ See help(yt_dlp.postprocessor) for a list of available Postprocessors and their arguments\n",
    "    'postprocessors': [{  # Extract audio using ffmpeg\n",
    "        'key': 'FFmpegExtractAudio',\n",
    "        'preferredcodec': 'wav',\n",
    "    }]\n",
    "}\n",
    "\n",
    "with yt_dlp.YoutubeDL(ydl_opts) as ydl:\n",
    "    error_code = ydl.download(URL)"
   ]
  },
  {
   "cell_type": "markdown",
   "metadata": {
    "id": "NPe15lct8h4D"
   },
   "source": [
    "### correr `openai/whisper`"
   ]
  },
  {
   "cell_type": "code",
   "execution_count": null,
   "metadata": {},
   "outputs": [],
   "source": [
    "def extract_guest_name(title):\n",
    "    # Find the index of the hyphen (-) separator\n",
    "    separator_index = title.find('-')\n",
    "\n",
    "    if separator_index == -1:\n",
    "        raise ValueError(\"Separator (-) not found in the input string\")\n",
    "\n",
    "    # Extract the guest's name after the separator and remove any leading/trailing whitespace\n",
    "    guest_name = title[separator_index+1:].strip()\n",
    "\n",
    "    return guest_name\n",
    "\n",
    "input_title = \"El Método Rebord #48 - Alejandro Dolina\"\n",
    "guest_name = extract_guest_name(input_title)\n",
    "host_name = \"Tomás Rebord\"\n",
    "print(guest_name)  # Output: Alejandro Dolina"
   ]
  },
  {
   "cell_type": "code",
   "execution_count": null,
   "metadata": {},
   "outputs": [],
   "source": [
    "!whisperx $output_filename --hf_token $hf_token --model tiny --language es --vad_filter --align_model WAV2VEC2_ASR_LARGE_LV60K_960H --diarize --min_speakers 2 --max_speakers 2"
   ]
  },
  {
   "cell_type": "markdown",
   "metadata": {},
   "source": [
    "### detectar distintos speakers y generar archivos"
   ]
  },
  {
   "cell_type": "code",
   "execution_count": null,
   "metadata": {},
   "outputs": [],
   "source": [
    "import re\n",
    "\n",
    "def parse_srt(input):\n",
    "    entries = input.strip().split(\"\\n\\n\")\n",
    "    output_lines = []\n",
    "    last_speaker = None\n",
    "    \n",
    "    for entry in entries:\n",
    "        lines = entry.strip().split(\"\\n\")\n",
    "        time_start = lines[1].split(\" --> \")[0]\n",
    "        speaker, text = re.match(r'\\[(.+)\\]:\\s*(.+)', lines[2]).groups()\n",
    "        \n",
    "        if last_speaker and speaker != last_speaker:\n",
    "            output_lines.append(\"\")\n",
    "        \n",
    "        if output_lines and speaker == last_speaker:\n",
    "            output_lines[-1] += \" \" + text\n",
    "        else:\n",
    "            output_lines.append(f\"[{speaker}, {time_start}] {text}\")\n",
    "        \n",
    "        last_speaker = speaker\n",
    "\n",
    "    return \"\\n\".join(output_lines)"
   ]
  },
  {
   "cell_type": "code",
   "execution_count": null,
   "metadata": {},
   "outputs": [],
   "source": [
    "def read_srt_file(file_path):\n",
    "    with open(file_path, 'r', encoding='utf-8') as file:\n",
    "        srt_content = file.read()\n",
    "    return srt_content"
   ]
  },
  {
   "cell_type": "code",
   "execution_count": null,
   "metadata": {},
   "outputs": [],
   "source": [
    "srt_string = read_srt_file(f\"{output_filename}.word.srt\")\n",
    "print(parse_srt(srt_string))"
   ]
  },
  {
   "cell_type": "code",
   "execution_count": null,
   "metadata": {},
   "outputs": [],
   "source": [
    "import re\n",
    "\n",
    "def process_transcript(input_str):\n",
    "    # Use regular expression to find and split the input by speaker and timestamps\n",
    "    speaker_timestamp_pattern = r'\\[(SPEAKER_\\d+), \\d{2}:\\d{2}:\\d{2},\\d{3}\\]'\n",
    "    segments = re.split(speaker_timestamp_pattern, input_str)\n",
    "    \n",
    "    # Remove the first empty string from the list\n",
    "    segments = segments[1:]\n",
    "\n",
    "    output = []\n",
    "    for i in range(0, len(segments), 2):\n",
    "        speaker = segments[i]\n",
    "        text = segments[i + 1].strip()\n",
    "        output.append(f\"{speaker} ha dicho: {text}\\n\")\n",
    "\n",
    "    return ''.join(output)\n",
    "\n",
    "def replace_speaker_names(input_str, host_name=host_name, guest_name=guest_name):\n",
    "    speaker_mapping = {\n",
    "        \"SPEAKER_00\": host_name,\n",
    "        \"SPEAKER_01\": guest_name,\n",
    "        # Add more mappings if needed\n",
    "    }\n",
    "\n",
    "    output_str = input_str\n",
    "    for old_speaker, new_speaker in speaker_mapping.items():\n",
    "        output_str = output_str.replace(old_speaker, new_speaker)\n",
    "        \n",
    "    return output_str"
   ]
  },
  {
   "cell_type": "code",
   "execution_count": null,
   "metadata": {},
   "outputs": [],
   "source": [
    "output_str = replace_speaker_names(process_transcript(parse_srt(srt_string)))\n",
    "print(output_str)"
   ]
  },
  {
   "cell_type": "code",
   "execution_count": null,
   "metadata": {},
   "outputs": [],
   "source": [
    "def save_to_txt_file(input_str, filename=\"output.txt\"):\n",
    "    with open(filename, \"w\", encoding=\"utf-8\") as file:\n",
    "        file.write(input_str)"
   ]
  },
  {
   "cell_type": "code",
   "execution_count": null,
   "metadata": {},
   "outputs": [],
   "source": [
    "save_to_txt_file(output_str, f\"{output_title}_with_speakers_timestamped.txt\")"
   ]
  }
 ],
 "metadata": {
  "accelerator": "GPU",
  "colab": {
   "authorship_tag": "ABX9TyNs8FEieYIwYgV1rceaTH3i",
   "include_colab_link": true,
   "name": "whisperx-example-youtube.ipynb",
   "provenance": []
  },
  "gpuClass": "standard",
  "kernelspec": {
   "display_name": "default:Python",
   "language": "python",
   "name": "conda-env-default-py"
  },
  "language_info": {
   "codemirror_mode": {
    "name": "ipython",
    "version": 3
   },
   "file_extension": ".py",
   "mimetype": "text/x-python",
   "name": "python",
   "nbconvert_exporter": "python",
   "pygments_lexer": "ipython3",
   "version": "3.9.13"
  }
 },
 "nbformat": 4,
 "nbformat_minor": 4
}
