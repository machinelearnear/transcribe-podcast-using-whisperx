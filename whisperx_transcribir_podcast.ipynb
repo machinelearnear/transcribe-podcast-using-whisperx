{
 "cells": [
  {
   "cell_type": "markdown",
   "metadata": {
    "colab_type": "text",
    "id": "view-in-github"
   },
   "source": [
    "<a href=\"https://colab.research.google.com/github/machinelearnear/nelson-openai-master-plan/blob/main/whisperx_transcribir_podcast.ipynb\" target=\"_parent\"><img src=\"https://colab.research.google.com/assets/colab-badge.svg\" alt=\"Open In Colab\"/></a>"
   ]
  },
  {
   "cell_type": "markdown",
   "metadata": {
    "id": "3TkBM6oS7ROk"
   },
   "source": [
    "## 🧉 machinelearnear [📺](https://www.youtube.com/c/machinelearnear)"
   ]
  },
  {
   "cell_type": "markdown",
   "metadata": {
    "id": "RxxNYfrT8MHh"
   },
   "source": [
    "### instalar requerimientos"
   ]
  },
  {
   "cell_type": "code",
   "execution_count": 1,
   "metadata": {
    "colab": {
     "base_uri": "https://localhost:8080/"
    },
    "id": "psb7KUiJ6dwk",
    "outputId": "ab92fee9-ac6a-4245-a857-cfde1bef872b"
   },
   "outputs": [],
   "source": [
    "!pip install git+https://github.com/m-bain/whisperx.git;\n",
    "!python3 -m pip install -U yt-dlp;"
   ]
  },
  {
   "cell_type": "markdown",
   "metadata": {
    "id": "E3Trcf6-8TJV"
   },
   "source": [
    "### bajarse el podcast de youtube"
   ]
  },
  {
   "cell_type": "code",
   "execution_count": null,
   "metadata": {},
   "outputs": [],
   "source": [
    "import json\n",
    "import yt_dlp\n",
    "\n",
    "URL = 'https://www.youtube.com/watch?v=OA1biHKSyTw'\n",
    "\n",
    "# ℹ️ See help(yt_dlp.YoutubeDL) for a list of available options and public functions\n",
    "ydl_opts = {}\n",
    "with yt_dlp.YoutubeDL(ydl_opts) as ydl:\n",
    "    info = ydl.extract_info(URL, download=False)\n",
    "\n",
    "    # # ℹ️ ydl.sanitize_info makes the info json-serializable\n",
    "    # print(json.dumps(ydl.sanitize_info(info)))"
   ]
  },
  {
   "cell_type": "code",
   "execution_count": null,
   "metadata": {},
   "outputs": [],
   "source": [
    "import re\n",
    "\n",
    "def convert_title(title):\n",
    "    # Extract the episode number using a regex pattern\n",
    "    episode_number = re.search(r'#(\\d+)', title)\n",
    "    if episode_number:\n",
    "        episode_number = episode_number.group(1).zfill(3)\n",
    "    else:\n",
    "        raise ValueError(\"Episode number not found in the input string\")\n",
    "\n",
    "    # Remove any non-alphanumeric characters and split the words into a list\n",
    "    words = re.findall(r'\\b\\w+\\b', title)\n",
    "\n",
    "    # Find the index of the hyphen (-) separator\n",
    "    separator_index = title.find('-')\n",
    "\n",
    "    if separator_index == -1:\n",
    "        raise ValueError(\"Separator (-) not found in the input string\")\n",
    "\n",
    "    # Extract the names after the separator and remove any leading/trailing whitespace\n",
    "    names = title[separator_index+1:].strip()\n",
    "\n",
    "    # Combine the episode number and names into the desired format\n",
    "    result = f\"episode_{episode_number}_{names.replace(' ', '_')}\".lower()\n",
    "    return result\n",
    "\n",
    "input_title = ydl.sanitize_info(info)[\"title\"]\n",
    "output_title = convert_title(input_title)\n",
    "print(output_title)  # Output: episode_048_alejandro_dolina"
   ]
  },
  {
   "cell_type": "code",
   "execution_count": null,
   "metadata": {},
   "outputs": [],
   "source": [
    "ydl_opts = {\n",
    "    'outtmpl': f'output/{output_title}',\n",
    "    'format': 'm4a/bestaudio/best',\n",
    "    # ℹ️ See help(yt_dlp.postprocessor) for a list of available Postprocessors and their arguments\n",
    "    'postprocessors': [{  # Extract audio using ffmpeg\n",
    "        'key': 'FFmpegExtractAudio',\n",
    "        'preferredcodec': 'wav',\n",
    "    }]\n",
    "}\n",
    "\n",
    "with yt_dlp.YoutubeDL(ydl_opts) as ydl:\n",
    "    error_code = ydl.download(URL)"
   ]
  },
  {
   "cell_type": "code",
   "execution_count": null,
   "metadata": {
    "id": "vKDhtw3w7vIb"
   },
   "outputs": [],
   "source": [
    "# youtube_video = \"https://www.youtube.com/watch?v=NJYQzHVz-xI&t=513s&ab_channel=machinelearnear\""
   ]
  },
  {
   "cell_type": "code",
   "execution_count": 2,
   "metadata": {
    "colab": {
     "base_uri": "https://localhost:8080/"
    },
    "id": "cq7d7TbQ8ooG",
    "outputId": "504b7b46-33f8-4027-9b78-5b96f83c474e"
   },
   "outputs": [],
   "source": [
    "# !python -m yt_dlp --output \"archivo.%(ext)s\" --extract-audio --audio-format wav $youtube_video"
   ]
  },
  {
   "cell_type": "markdown",
   "metadata": {
    "id": "NPe15lct8h4D"
   },
   "source": [
    "### ahora si ... correr whisperx"
   ]
  },
  {
   "cell_type": "code",
   "execution_count": 4,
   "metadata": {
    "id": "Y8mI9SLPFiHI"
   },
   "outputs": [],
   "source": [
    "# hf_token = \"<aca-pone-tu-hf-token\" # https://huggingface.co/settings/tokens"
   ]
  },
  {
   "cell_type": "code",
   "execution_count": null,
   "metadata": {},
   "outputs": [],
   "source": [
    "def extract_guest_name(title):\n",
    "    # Find the index of the hyphen (-) separator\n",
    "    separator_index = title.find('-')\n",
    "\n",
    "    if separator_index == -1:\n",
    "        raise ValueError(\"Separator (-) not found in the input string\")\n",
    "\n",
    "    # Extract the guest's name after the separator and remove any leading/trailing whitespace\n",
    "    guest_name = title[separator_index+1:].strip()\n",
    "\n",
    "    return guest_name\n",
    "\n",
    "input_title = \"El Método Rebord #48 - Alejandro Dolina\"\n",
    "guest_name = extract_guest_name(input_title)\n",
    "print(guest_name)  # Output: Alejandro Dolina"
   ]
  },
  {
   "cell_type": "markdown",
   "metadata": {
    "id": "iPiU1e9FreCp"
   },
   "source": [
    "#### transcripción en español"
   ]
  },
  {
   "cell_type": "code",
   "execution_count": 5,
   "metadata": {
    "colab": {
     "base_uri": "https://localhost:8080/"
    },
    "id": "ejlTXf1u7QFz",
    "outputId": "9d30035f-bf8b-4a99-9f62-26eefec15734"
   },
   "outputs": [],
   "source": [
    "# !whisperx archivo.wav --model large-v2 --language es --diarize"
   ]
  },
  {
   "cell_type": "markdown",
   "metadata": {
    "id": "fiZnT8xcrlVX"
   },
   "source": [
    "#### traducción de español a inglés"
   ]
  },
  {
   "cell_type": "code",
   "execution_count": 6,
   "metadata": {
    "colab": {
     "base_uri": "https://localhost:8080/"
    },
    "id": "HQfAQYc7ZgHs",
    "outputId": "c6aa1244-c7fd-4340-b6a5-941bec2d1757"
   },
   "outputs": [],
   "source": [
    "# !whisperx archivo.wav --hf_token $hf_token --model large-v2 --language es --task translate --vad_filter --align_model WAV2VEC2_ASR_LARGE_LV60K_960H "
   ]
  },
  {
   "cell_type": "markdown",
   "metadata": {
    "id": "rUV1TpVXrsy7"
   },
   "source": [
    "#### transcripción en español con VAD"
   ]
  },
  {
   "cell_type": "code",
   "execution_count": null,
   "metadata": {
    "id": "O9O_o7Ujr1JS"
   },
   "outputs": [],
   "source": [
    "# !whisperx archivo.wav --hf_token $hf_token --model large-v2 --language es --vad_filter --align_model WAV2VEC2_ASR_LARGE_LV60K_960H "
   ]
  },
  {
   "cell_type": "code",
   "execution_count": null,
   "metadata": {},
   "outputs": [],
   "source": []
  }
 ],
 "metadata": {
  "accelerator": "GPU",
  "colab": {
   "authorship_tag": "ABX9TyNs8FEieYIwYgV1rceaTH3i",
   "include_colab_link": true,
   "name": "whisperx-example-youtube.ipynb",
   "provenance": []
  },
  "gpuClass": "standard",
  "kernelspec": {
   "display_name": "default:Python",
   "language": "python",
   "name": "conda-env-default-py"
  },
  "language_info": {
   "codemirror_mode": {
    "name": "ipython",
    "version": 3
   },
   "file_extension": ".py",
   "mimetype": "text/x-python",
   "name": "python",
   "nbconvert_exporter": "python",
   "pygments_lexer": "ipython3",
   "version": "3.9.13"
  }
 },
 "nbformat": 4,
 "nbformat_minor": 4
}
